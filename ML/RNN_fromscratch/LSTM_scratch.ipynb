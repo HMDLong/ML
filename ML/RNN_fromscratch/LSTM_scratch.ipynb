{
 "cells": [
  {
   "cell_type": "code",
   "execution_count": 1,
   "metadata": {},
   "outputs": [],
   "source": [
    "import math\n",
    "import torch\n",
    "from torch import nn\n",
    "from torch.nn import functional as F\n",
    "from d2l import torch as d2l_torch"
   ]
  },
  {
   "cell_type": "code",
   "execution_count": 2,
   "metadata": {},
   "outputs": [],
   "source": [
    "batch_size, num_steps = 32, 35\n",
    "train_iter, vocab = d2l_torch.load_data_time_machine(batch_size=batch_size, num_steps=num_steps)"
   ]
  },
  {
   "cell_type": "code",
   "execution_count": 3,
   "metadata": {},
   "outputs": [],
   "source": [
    "# Create layers params\n",
    "def get_params(vocab_size, num_hiddens, device):\n",
    "    num_inputs = num_outputs = vocab_size\n",
    "\n",
    "    def normal3(num_inputs, num_hiddens):\n",
    "        return torch.randn(size=(num_inputs, num_hiddens), device=device) * 0.01, torch.randn(size=(num_hiddens, num_hiddens), device=device) * 0.01, torch.zeros(num_hiddens, device=device)\n",
    "\n",
    "    def normal(shape):\n",
    "        return torch.randn(size=shape, device=device) * 0.01\n",
    "\n",
    "    # Hidden Layer Params\n",
    "    ## Input gate params\n",
    "    W_xi, W_hi, b_i = normal3(num_inputs, num_hiddens)\n",
    "    ## Forget gate params\n",
    "    W_xf, W_hf, b_f = normal3(num_inputs, num_hiddens)\n",
    "    ## Output gate params\n",
    "    W_xo, W_ho, b_o = normal3(num_inputs, num_hiddens)\n",
    "    ## Candidate memory weight params\n",
    "    W_xc, W_hc, b_c = normal3(num_inputs, num_hiddens)\n",
    "    # Output Layer Params\n",
    "    W_hq = normal((num_hiddens, num_outputs))\n",
    "    b_q = torch.zeros(num_outputs, device=device)\n",
    "    # Attach gradient for params\n",
    "    params = [W_xi, W_hi, b_i, W_xf, W_hf, b_f, W_xo, W_ho, b_o, W_xc, W_hc, b_c, W_hq, b_q]\n",
    "    for param in params:\n",
    "        param.requires_grad_(True)\n",
    "    return params"
   ]
  },
  {
   "cell_type": "code",
   "execution_count": 4,
   "metadata": {},
   "outputs": [],
   "source": [
    "# State = (Hidden state H, Candidate memory C)\n",
    "def init_state(batch_size, num_hiddens, device):\n",
    "    return (torch.zeros(size=(batch_size, num_hiddens), device=device), torch.zeros(size=(batch_size, num_hiddens), device=device))"
   ]
  },
  {
   "cell_type": "code",
   "execution_count": 5,
   "metadata": {},
   "outputs": [],
   "source": [
    "def lstm_forward(inputs, state, params):\n",
    "    # Unpacking params\n",
    "    W_xi, W_hi, b_i, W_xf, W_hf, b_f, W_xo, W_ho, b_o, W_xc, W_hc, b_c, W_hq, b_q = params\n",
    "    # Unpacking state\n",
    "    H, C = state\n",
    "    # outputs\n",
    "    outputs = []\n",
    "    for X in inputs:\n",
    "        # Run X and H through gates\n",
    "        I = torch.sigmoid((X @ W_xi) + (H @ W_hi) + b_i)\n",
    "        F = torch.sigmoid((X @ W_xf) + (H @ W_hf) + b_f)\n",
    "        O = torch.sigmoid((X @ W_xo) + (H @ W_ho) + b_o)\n",
    "        C_candidate = torch.tanh((X @ W_xc) + (H @ W_hc) + b_c)\n",
    "        # Update state\n",
    "        C = F * C + I * C_candidate\n",
    "        H = O * torch.tanh(C)\n",
    "        # Run H through output layer to get Y\n",
    "        Y = torch.mm(H, W_hq) + b_q\n",
    "        outputs.append(Y)\n",
    "    return torch.cat(outputs, dim=0), (H, C)"
   ]
  },
  {
   "cell_type": "code",
   "execution_count": 6,
   "metadata": {},
   "outputs": [],
   "source": [
    "class LSTM:\n",
    "    def __init__(self, forward_fn, init_state, num_hiddens, vocab_size, device) -> None:\n",
    "        self.params = get_params(vocab_size, num_hiddens, device=device)\n",
    "        self.forward_fn = forward_fn\n",
    "        self.init_state = init_state\n",
    "        self.num_hiddens = num_hiddens\n",
    "        self.vocab_size = vocab_size\n",
    "    \n",
    "    def __call__(self, X, state):\n",
    "        X = F.one_hot(X.T, self.vocab_size).type(torch.float32)\n",
    "        return self.forward_fn(X, state, self.params)\n",
    "\n",
    "    def begin_state(self, batch_size, device):\n",
    "        return self.init_state(batch_size, self.num_hiddens, device=device)"
   ]
  },
  {
   "cell_type": "code",
   "execution_count": 7,
   "metadata": {},
   "outputs": [],
   "source": [
    "def grad_clipping(net, theta):\n",
    "    params = net.params\n",
    "    norm = torch.sqrt(sum(torch.sum((p.grad**2)) for p in params))\n",
    "    if norm > theta:\n",
    "        for param in params:\n",
    "            param.grad[:] *= theta / norm"
   ]
  },
  {
   "cell_type": "code",
   "execution_count": 8,
   "metadata": {},
   "outputs": [],
   "source": [
    "def train_epoch(net, train_iter, loss, updater, device):\n",
    "    state = None\n",
    "    metric = d2l_torch.Accumulator(2)\n",
    "    for X, Y in train_iter:\n",
    "        if state is None:\n",
    "            state = net.begin_state(batch_size=X.shape[0], device=device)\n",
    "        else:\n",
    "            for s in state:\n",
    "              s.detach_()\n",
    "        y = Y.T.reshape(-1)\n",
    "        X, y = X.to(device), y.to(device)\n",
    "        Y_hat, state = net(X, state)\n",
    "        l = loss(Y_hat, y.long()).mean()\n",
    "        l.backward()\n",
    "        grad_clipping(net, 1)\n",
    "        updater(batch_size=1)\n",
    "        metric.add(l*y.numel(), y.numel())\n",
    "    return math.exp(metric[0]/metric[1])"
   ]
  },
  {
   "cell_type": "code",
   "execution_count": 9,
   "metadata": {},
   "outputs": [],
   "source": [
    "def train_lstm(net, train_iter, num_epochs, learning_rate):\n",
    "    loss = nn.CrossEntropyLoss()\n",
    "    updater = lambda batch_size: d2l_torch.sgd(net.params, learning_rate, batch_size)\n",
    "    for epoch in range(num_epochs):\n",
    "        perplexity = train_epoch(net, train_iter, loss, updater, d2l_torch.try_gpu())\n",
    "        if(epoch % 50 == 0):\n",
    "            print(f\"Epoch: {epoch:d}/{num_epochs:d}| Perplexity: {perplexity:.2f}\")\n",
    "    print(f\"Perplexity: {perplexity:.2f}\")"
   ]
  },
  {
   "cell_type": "code",
   "execution_count": 10,
   "metadata": {},
   "outputs": [],
   "source": [
    "def predict(net, prefix, num_preds, device):\n",
    "    state = net.begin_state(batch_size=1, device=device)\n",
    "    outputs = [vocab[prefix[0]]]\n",
    "    get_input = lambda: torch.tensor([outputs[-1]], device=device).reshape((1, 1))\n",
    "    for y in prefix[1:]:  # Warm-up period\n",
    "        _, state = net(get_input(), state)\n",
    "        outputs.append(vocab[y])\n",
    "    for _ in range(num_preds):  # Predict `num_preds` steps\n",
    "        y, state = net(get_input(), state)\n",
    "        outputs.append(int(y.argmax(dim=1).reshape(1)))\n",
    "    return ''.join([vocab.idx_to_token[i] for i in outputs])"
   ]
  },
  {
   "cell_type": "code",
   "execution_count": 11,
   "metadata": {},
   "outputs": [],
   "source": [
    "num_epochs, lr = 1000, 0.1\n",
    "num_hiddens = 512"
   ]
  },
  {
   "cell_type": "code",
   "execution_count": 12,
   "metadata": {},
   "outputs": [],
   "source": [
    "net = LSTM(forward_fn=lstm_forward, \n",
    "            init_state=init_state, \n",
    "            vocab_size=len(vocab), \n",
    "            num_hiddens=num_hiddens, \n",
    "            device=d2l_torch.try_gpu())"
   ]
  },
  {
   "cell_type": "code",
   "execution_count": 13,
   "metadata": {},
   "outputs": [
    {
     "name": "stdout",
     "output_type": "stream",
     "text": [
      "Epoch: 0/1000| Perplexity: 27.63\n",
      "Epoch: 50/1000| Perplexity: 18.40\n",
      "Epoch: 100/1000| Perplexity: 17.75\n",
      "Epoch: 150/1000| Perplexity: 17.46\n",
      "Epoch: 200/1000| Perplexity: 17.15\n",
      "Epoch: 250/1000| Perplexity: 16.72\n",
      "Epoch: 300/1000| Perplexity: 16.16\n",
      "Epoch: 350/1000| Perplexity: 15.59\n",
      "Epoch: 400/1000| Perplexity: 15.02\n",
      "Epoch: 450/1000| Perplexity: 14.33\n",
      "Epoch: 500/1000| Perplexity: 13.49\n",
      "Epoch: 550/1000| Perplexity: 12.36\n",
      "Epoch: 600/1000| Perplexity: 11.86\n",
      "Epoch: 650/1000| Perplexity: 11.43\n",
      "Epoch: 700/1000| Perplexity: 11.01\n",
      "Epoch: 750/1000| Perplexity: 10.75\n",
      "Epoch: 800/1000| Perplexity: 10.60\n",
      "Epoch: 850/1000| Perplexity: 10.10\n",
      "Epoch: 900/1000| Perplexity: 9.93\n",
      "Epoch: 950/1000| Perplexity: 9.65\n",
      "Perplexity: 9.45\n"
     ]
    }
   ],
   "source": [
    "train_lstm(net, train_iter=train_iter, num_epochs=num_epochs, learning_rate=lr)"
   ]
  },
  {
   "cell_type": "markdown",
   "metadata": {},
   "source": [
    "With LSTM, loss reduction is slow, for it has lots of different params."
   ]
  },
  {
   "cell_type": "code",
   "execution_count": 14,
   "metadata": {},
   "outputs": [
    {
     "data": {
      "text/plain": [
       "'time traveller and and and and and '"
      ]
     },
     "execution_count": 14,
     "metadata": {},
     "output_type": "execute_result"
    }
   ],
   "source": [
    "predict(net, \"time traveller \", 20, d2l_torch.try_gpu())"
   ]
  },
  {
   "cell_type": "code",
   "execution_count": 16,
   "metadata": {},
   "outputs": [],
   "source": [
    "net1 = LSTM(forward_fn=lstm_forward, \n",
    "            init_state=init_state, \n",
    "            vocab_size=len(vocab), \n",
    "            num_hiddens=num_hiddens, \n",
    "            device=d2l_torch.try_gpu())"
   ]
  },
  {
   "cell_type": "code",
   "execution_count": 17,
   "metadata": {},
   "outputs": [
    {
     "name": "stdout",
     "output_type": "stream",
     "text": [
      "Epoch: 0/700| Perplexity: 25.00\n",
      "Epoch: 50/700| Perplexity: 13.66\n",
      "Epoch: 100/700| Perplexity: 10.35\n",
      "Epoch: 150/700| Perplexity: 8.92\n",
      "Epoch: 200/700| Perplexity: 7.57\n",
      "Epoch: 250/700| Perplexity: 6.29\n",
      "Epoch: 300/700| Perplexity: 4.85\n",
      "Epoch: 350/700| Perplexity: 3.25\n",
      "Epoch: 400/700| Perplexity: 1.86\n",
      "Epoch: 450/700| Perplexity: 1.25\n",
      "Epoch: 500/700| Perplexity: 1.10\n",
      "Epoch: 550/700| Perplexity: 1.05\n",
      "Epoch: 600/700| Perplexity: 1.05\n",
      "Epoch: 650/700| Perplexity: 1.04\n",
      "Perplexity: 1.04\n"
     ]
    }
   ],
   "source": [
    "train_lstm(net1, train_iter=train_iter, num_epochs=700, learning_rate=1)"
   ]
  },
  {
   "cell_type": "code",
   "execution_count": 19,
   "metadata": {},
   "outputs": [
    {
     "data": {
      "text/plain": [
       "'time traveller for so it will be convenient to speak of himwas expounding a recondite matter to us his grey eyes sh'"
      ]
     },
     "execution_count": 19,
     "metadata": {},
     "output_type": "execute_result"
    }
   ],
   "source": [
    "predict(net1, \"time traveller \", 100, d2l_torch.try_gpu())"
   ]
  },
  {
   "cell_type": "markdown",
   "metadata": {},
   "source": [
    "Pretty good"
   ]
  },
  {
   "cell_type": "markdown",
   "metadata": {},
   "source": [
    "Let's try Adam on this model to see if we can train faster"
   ]
  },
  {
   "cell_type": "code",
   "execution_count": 56,
   "metadata": {},
   "outputs": [],
   "source": [
    "def init_adam_states(feature_dim):\n",
    "    v_w, v_b = torch.zeros(size=(feature_dim, 1), device=d2l_torch.try_gpu()), torch.zeros(1, device=d2l_torch.try_gpu())\n",
    "    s_w, s_b = torch.zeros(size=(feature_dim, 1), device=d2l_torch.try_gpu()), torch.zeros(1, device=d2l_torch.try_gpu())\n",
    "    return ((v_w, s_w), (v_b, s_b))"
   ]
  },
  {
   "cell_type": "code",
   "execution_count": 60,
   "metadata": {},
   "outputs": [],
   "source": [
    "class Adam:\n",
    "    def __init__(self, params, hyperparams):\n",
    "        self.states = init_adam_states(num_hiddens)\n",
    "        self.params = params\n",
    "        self.hyperparams = hyperparams\n",
    "\n",
    "    def __call__(self, batch_size):\n",
    "        beta1, beta2, eps = 0.9, 0.999, 1e-6\n",
    "        for p, (v, s) in zip(self.params, self.states):\n",
    "            with torch.no_grad():\n",
    "                v[:] = beta1 * v + (1 - beta1) * p.grad\n",
    "                s[:] = beta2 * s + (1 - beta2) * torch.square(p.grad)\n",
    "                v_bias_corr = v / (1 - beta1 ** self.hyperparams['t'])\n",
    "                s_bias_corr = s / (1 - beta2 ** self.hyperparams['t'])\n",
    "                p[:] -= self.hyperparams['lr'] * v_bias_corr / (torch.sqrt(s_bias_corr)+ eps)\n",
    "            p.grad.data.zero_()\n",
    "        self.hyperparams['t'] += 1"
   ]
  },
  {
   "cell_type": "code",
   "execution_count": 61,
   "metadata": {},
   "outputs": [],
   "source": [
    "def train_lstm_with_adam(net, train_iter, num_epochs, learning_rate):\n",
    "    loss = nn.CrossEntropyLoss()\n",
    "    updater = Adam(net.params, hyperparams = {'lr': 0.1, 't': 1})\n",
    "    for epoch in range(num_epochs):\n",
    "        perplexity = train_epoch(net, train_iter, loss, updater, d2l_torch.try_gpu())\n",
    "        if(epoch % 50 == 0):\n",
    "            print(f\"Epoch: {epoch:d}/{num_epochs:d}| Perplexity: {perplexity:.2f}\")\n",
    "    print(f\"Perplexity: {perplexity:.2f}\")"
   ]
  },
  {
   "cell_type": "code",
   "execution_count": 30,
   "metadata": {},
   "outputs": [],
   "source": [
    "net2 = net1 = LSTM(forward_fn=lstm_forward, \n",
    "            init_state=init_state, \n",
    "            vocab_size=len(vocab), \n",
    "            num_hiddens=num_hiddens, \n",
    "            device=d2l_torch.try_gpu())"
   ]
  },
  {
   "cell_type": "code",
   "execution_count": 62,
   "metadata": {},
   "outputs": [
    {
     "ename": "RuntimeError",
     "evalue": "The size of tensor a (512) must match the size of tensor b (28) at non-singleton dimension 0",
     "output_type": "error",
     "traceback": [
      "\u001b[1;31m---------------------------------------------------------------------------\u001b[0m",
      "\u001b[1;31mRuntimeError\u001b[0m                              Traceback (most recent call last)",
      "\u001b[1;32m~\\AppData\\Local\\Temp/ipykernel_13872/3667549517.py\u001b[0m in \u001b[0;36m<module>\u001b[1;34m\u001b[0m\n\u001b[1;32m----> 1\u001b[1;33m \u001b[0mtrain_lstm_with_adam\u001b[0m\u001b[1;33m(\u001b[0m\u001b[0mnet2\u001b[0m\u001b[1;33m,\u001b[0m \u001b[0mtrain_iter\u001b[0m\u001b[1;33m,\u001b[0m \u001b[0mnum_epochs\u001b[0m\u001b[1;33m,\u001b[0m \u001b[0mlearning_rate\u001b[0m\u001b[1;33m=\u001b[0m\u001b[1;36m0.1\u001b[0m\u001b[1;33m)\u001b[0m\u001b[1;33m\u001b[0m\u001b[1;33m\u001b[0m\u001b[0m\n\u001b[0m",
      "\u001b[1;32m~\\AppData\\Local\\Temp/ipykernel_13872/3729093087.py\u001b[0m in \u001b[0;36mtrain_lstm_with_adam\u001b[1;34m(net, train_iter, num_epochs, learning_rate)\u001b[0m\n\u001b[0;32m      3\u001b[0m     \u001b[0mupdater\u001b[0m \u001b[1;33m=\u001b[0m \u001b[0mAdam\u001b[0m\u001b[1;33m(\u001b[0m\u001b[0mnet\u001b[0m\u001b[1;33m.\u001b[0m\u001b[0mparams\u001b[0m\u001b[1;33m,\u001b[0m \u001b[0mlearning_rate\u001b[0m\u001b[1;33m,\u001b[0m \u001b[0mhyperparams\u001b[0m \u001b[1;33m=\u001b[0m \u001b[1;33m{\u001b[0m\u001b[1;34m't'\u001b[0m \u001b[1;33m:\u001b[0m \u001b[1;36m1\u001b[0m\u001b[1;33m}\u001b[0m\u001b[1;33m)\u001b[0m\u001b[1;33m\u001b[0m\u001b[1;33m\u001b[0m\u001b[0m\n\u001b[0;32m      4\u001b[0m     \u001b[1;32mfor\u001b[0m \u001b[0mepoch\u001b[0m \u001b[1;32min\u001b[0m \u001b[0mrange\u001b[0m\u001b[1;33m(\u001b[0m\u001b[0mnum_epochs\u001b[0m\u001b[1;33m)\u001b[0m\u001b[1;33m:\u001b[0m\u001b[1;33m\u001b[0m\u001b[1;33m\u001b[0m\u001b[0m\n\u001b[1;32m----> 5\u001b[1;33m         \u001b[0mperplexity\u001b[0m \u001b[1;33m=\u001b[0m \u001b[0mtrain_epoch\u001b[0m\u001b[1;33m(\u001b[0m\u001b[0mnet\u001b[0m\u001b[1;33m,\u001b[0m \u001b[0mtrain_iter\u001b[0m\u001b[1;33m,\u001b[0m \u001b[0mloss\u001b[0m\u001b[1;33m,\u001b[0m \u001b[0mupdater\u001b[0m\u001b[1;33m,\u001b[0m \u001b[0md2l_torch\u001b[0m\u001b[1;33m.\u001b[0m\u001b[0mtry_gpu\u001b[0m\u001b[1;33m(\u001b[0m\u001b[1;33m)\u001b[0m\u001b[1;33m)\u001b[0m\u001b[1;33m\u001b[0m\u001b[1;33m\u001b[0m\u001b[0m\n\u001b[0m\u001b[0;32m      6\u001b[0m         \u001b[1;32mif\u001b[0m\u001b[1;33m(\u001b[0m\u001b[0mepoch\u001b[0m \u001b[1;33m%\u001b[0m \u001b[1;36m50\u001b[0m \u001b[1;33m==\u001b[0m \u001b[1;36m0\u001b[0m\u001b[1;33m)\u001b[0m\u001b[1;33m:\u001b[0m\u001b[1;33m\u001b[0m\u001b[1;33m\u001b[0m\u001b[0m\n\u001b[0;32m      7\u001b[0m             \u001b[0mprint\u001b[0m\u001b[1;33m(\u001b[0m\u001b[1;34mf\"Epoch: {epoch:d}/{num_epochs:d}| Perplexity: {perplexity:.2f}\"\u001b[0m\u001b[1;33m)\u001b[0m\u001b[1;33m\u001b[0m\u001b[1;33m\u001b[0m\u001b[0m\n",
      "\u001b[1;32m~\\AppData\\Local\\Temp/ipykernel_13872/3113518121.py\u001b[0m in \u001b[0;36mtrain_epoch\u001b[1;34m(net, train_iter, loss, updater, device)\u001b[0m\n\u001b[0;32m     14\u001b[0m         \u001b[0ml\u001b[0m\u001b[1;33m.\u001b[0m\u001b[0mbackward\u001b[0m\u001b[1;33m(\u001b[0m\u001b[1;33m)\u001b[0m\u001b[1;33m\u001b[0m\u001b[1;33m\u001b[0m\u001b[0m\n\u001b[0;32m     15\u001b[0m         \u001b[0mgrad_clipping\u001b[0m\u001b[1;33m(\u001b[0m\u001b[0mnet\u001b[0m\u001b[1;33m,\u001b[0m \u001b[1;36m1\u001b[0m\u001b[1;33m)\u001b[0m\u001b[1;33m\u001b[0m\u001b[1;33m\u001b[0m\u001b[0m\n\u001b[1;32m---> 16\u001b[1;33m         \u001b[0mupdater\u001b[0m\u001b[1;33m(\u001b[0m\u001b[0mbatch_size\u001b[0m\u001b[1;33m=\u001b[0m\u001b[1;36m1\u001b[0m\u001b[1;33m)\u001b[0m\u001b[1;33m\u001b[0m\u001b[1;33m\u001b[0m\u001b[0m\n\u001b[0m\u001b[0;32m     17\u001b[0m         \u001b[0mmetric\u001b[0m\u001b[1;33m.\u001b[0m\u001b[0madd\u001b[0m\u001b[1;33m(\u001b[0m\u001b[0ml\u001b[0m\u001b[1;33m*\u001b[0m\u001b[0my\u001b[0m\u001b[1;33m.\u001b[0m\u001b[0mnumel\u001b[0m\u001b[1;33m(\u001b[0m\u001b[1;33m)\u001b[0m\u001b[1;33m,\u001b[0m \u001b[0my\u001b[0m\u001b[1;33m.\u001b[0m\u001b[0mnumel\u001b[0m\u001b[1;33m(\u001b[0m\u001b[1;33m)\u001b[0m\u001b[1;33m)\u001b[0m\u001b[1;33m\u001b[0m\u001b[1;33m\u001b[0m\u001b[0m\n\u001b[0;32m     18\u001b[0m     \u001b[1;32mreturn\u001b[0m \u001b[0mmath\u001b[0m\u001b[1;33m.\u001b[0m\u001b[0mexp\u001b[0m\u001b[1;33m(\u001b[0m\u001b[0mmetric\u001b[0m\u001b[1;33m[\u001b[0m\u001b[1;36m0\u001b[0m\u001b[1;33m]\u001b[0m\u001b[1;33m/\u001b[0m\u001b[0mmetric\u001b[0m\u001b[1;33m[\u001b[0m\u001b[1;36m1\u001b[0m\u001b[1;33m]\u001b[0m\u001b[1;33m)\u001b[0m\u001b[1;33m\u001b[0m\u001b[1;33m\u001b[0m\u001b[0m\n",
      "\u001b[1;32m~\\AppData\\Local\\Temp/ipykernel_13872/2068737766.py\u001b[0m in \u001b[0;36m__call__\u001b[1;34m(self, batch_size)\u001b[0m\n\u001b[0;32m     10\u001b[0m         \u001b[1;32mfor\u001b[0m \u001b[0mp\u001b[0m\u001b[1;33m,\u001b[0m \u001b[1;33m(\u001b[0m\u001b[0mv\u001b[0m\u001b[1;33m,\u001b[0m \u001b[0ms\u001b[0m\u001b[1;33m)\u001b[0m \u001b[1;32min\u001b[0m \u001b[0mzip\u001b[0m\u001b[1;33m(\u001b[0m\u001b[0mself\u001b[0m\u001b[1;33m.\u001b[0m\u001b[0mparams\u001b[0m\u001b[1;33m,\u001b[0m \u001b[0mself\u001b[0m\u001b[1;33m.\u001b[0m\u001b[0mstates\u001b[0m\u001b[1;33m)\u001b[0m\u001b[1;33m:\u001b[0m\u001b[1;33m\u001b[0m\u001b[1;33m\u001b[0m\u001b[0m\n\u001b[0;32m     11\u001b[0m             \u001b[1;32mwith\u001b[0m \u001b[0mtorch\u001b[0m\u001b[1;33m.\u001b[0m\u001b[0mno_grad\u001b[0m\u001b[1;33m(\u001b[0m\u001b[1;33m)\u001b[0m\u001b[1;33m:\u001b[0m\u001b[1;33m\u001b[0m\u001b[1;33m\u001b[0m\u001b[0m\n\u001b[1;32m---> 12\u001b[1;33m                 \u001b[0mv\u001b[0m\u001b[1;33m[\u001b[0m\u001b[1;33m:\u001b[0m\u001b[1;33m]\u001b[0m \u001b[1;33m=\u001b[0m \u001b[0mbeta1\u001b[0m \u001b[1;33m*\u001b[0m \u001b[0mv\u001b[0m \u001b[1;33m+\u001b[0m \u001b[1;33m(\u001b[0m\u001b[1;36m1\u001b[0m \u001b[1;33m-\u001b[0m \u001b[0mbeta1\u001b[0m\u001b[1;33m)\u001b[0m \u001b[1;33m*\u001b[0m \u001b[0mp\u001b[0m\u001b[1;33m.\u001b[0m\u001b[0mgrad\u001b[0m\u001b[1;33m\u001b[0m\u001b[1;33m\u001b[0m\u001b[0m\n\u001b[0m\u001b[0;32m     13\u001b[0m                 \u001b[0ms\u001b[0m\u001b[1;33m[\u001b[0m\u001b[1;33m:\u001b[0m\u001b[1;33m]\u001b[0m \u001b[1;33m=\u001b[0m \u001b[0mbeta2\u001b[0m \u001b[1;33m*\u001b[0m \u001b[0ms\u001b[0m \u001b[1;33m+\u001b[0m \u001b[1;33m(\u001b[0m\u001b[1;36m1\u001b[0m \u001b[1;33m-\u001b[0m \u001b[0mbeta2\u001b[0m\u001b[1;33m)\u001b[0m \u001b[1;33m*\u001b[0m \u001b[0mtorch\u001b[0m\u001b[1;33m.\u001b[0m\u001b[0msquare\u001b[0m\u001b[1;33m(\u001b[0m\u001b[0mp\u001b[0m\u001b[1;33m.\u001b[0m\u001b[0mgrad\u001b[0m\u001b[1;33m)\u001b[0m\u001b[1;33m\u001b[0m\u001b[1;33m\u001b[0m\u001b[0m\n\u001b[0;32m     14\u001b[0m                 \u001b[0mv_bias_corr\u001b[0m \u001b[1;33m=\u001b[0m \u001b[0mv\u001b[0m \u001b[1;33m/\u001b[0m \u001b[1;33m(\u001b[0m\u001b[1;36m1\u001b[0m \u001b[1;33m-\u001b[0m \u001b[0mbeta1\u001b[0m \u001b[1;33m**\u001b[0m \u001b[0mself\u001b[0m\u001b[1;33m.\u001b[0m\u001b[0mhyperparams\u001b[0m\u001b[1;33m[\u001b[0m\u001b[1;34m't'\u001b[0m\u001b[1;33m]\u001b[0m\u001b[1;33m)\u001b[0m\u001b[1;33m\u001b[0m\u001b[1;33m\u001b[0m\u001b[0m\n",
      "\u001b[1;31mRuntimeError\u001b[0m: The size of tensor a (512) must match the size of tensor b (28) at non-singleton dimension 0"
     ]
    }
   ],
   "source": [
    "train_lstm_with_adam(net2, train_iter, num_epochs, learning_rate=0.1)"
   ]
  }
 ],
 "metadata": {
  "interpreter": {
   "hash": "ec7e58b3a9bb02cd090814cef287ec8aadd79361ec07b9179adbce85ffc378b8"
  },
  "kernelspec": {
   "display_name": "Python 3.9.7 64-bit ('pytorch': conda)",
   "name": "python3"
  },
  "language_info": {
   "codemirror_mode": {
    "name": "ipython",
    "version": 3
   },
   "file_extension": ".py",
   "mimetype": "text/x-python",
   "name": "python",
   "nbconvert_exporter": "python",
   "pygments_lexer": "ipython3",
   "version": "3.9.7"
  },
  "orig_nbformat": 4
 },
 "nbformat": 4,
 "nbformat_minor": 2
}
